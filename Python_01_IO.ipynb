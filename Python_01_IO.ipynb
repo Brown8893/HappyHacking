{
  "nbformat": 4,
  "nbformat_minor": 0,
  "metadata": {
    "colab": {
      "name": "Python_01_IO.ipynb",
      "version": "0.3.2",
      "provenance": [],
      "include_colab_link": true
    },
    "kernelspec": {
      "name": "python3",
      "display_name": "Python 3"
    }
  },
  "cells": [
    {
      "cell_type": "markdown",
      "metadata": {
        "id": "view-in-github",
        "colab_type": "text"
      },
      "source": [
        "<a href=\"https://colab.research.google.com/github/Brown8893/HappyHacking_WebSecurity/blob/master/Python_01_IO.ipynb\" target=\"_parent\"><img src=\"https://colab.research.google.com/assets/colab-badge.svg\" alt=\"Open In Colab\"/></a>"
      ]
    },
    {
      "cell_type": "markdown",
      "metadata": {
        "id": "jBmBOG-IrgmR",
        "colab_type": "text"
      },
      "source": [
        "# 輸入與輸出(Input and Output)\n",
        "\n",
        "單元學習目標:\n",
        "\n",
        "python輸入:input(), raw_input()\n",
        "\n",
        "python輸出: print()\n",
        "\n",
        "python格式化輸出技術"
      ]
    },
    {
      "cell_type": "markdown",
      "metadata": {
        "id": "qUz-UVKnrrYo",
        "colab_type": "text"
      },
      "source": [
        "# 基本輸入:讀取使用者的輸入\n",
        "```\n",
        "使用input時，會從標準輸入(stdin)中讀取輸入資料\n",
        "這些資料是string字串型態{重要}\n",
        "stdin==Standard Input\n",
        "```"
      ]
    },
    {
      "cell_type": "code",
      "metadata": {
        "id": "Ua74SqL3rjYp",
        "colab_type": "code",
        "outputId": "43a97f84-04c6-4d93-a99e-5d07f0d6cbef",
        "colab": {
          "base_uri": "https://localhost:8080/",
          "height": 51
        }
      },
      "source": [
        "x = input('Enter your name:')\n",
        "print('Hello, ' + x)"
      ],
      "execution_count": 0,
      "outputs": [
        {
          "output_type": "stream",
          "text": [
            "Enter your name:Steven\n",
            "Hello, Steven\n"
          ],
          "name": "stdout"
        }
      ]
    },
    {
      "cell_type": "code",
      "metadata": {
        "id": "WPLge_-Gsjrp",
        "colab_type": "code",
        "outputId": "32182db3-5353-4e0c-f9c0-064021ccd9ca",
        "colab": {
          "base_uri": "https://localhost:8080/",
          "height": 51
        }
      },
      "source": [
        "x = input(\"請輸入:\")\n",
        "x"
      ],
      "execution_count": 0,
      "outputs": [
        {
          "output_type": "stream",
          "text": [
            "請輸入:8893\n"
          ],
          "name": "stdout"
        },
        {
          "output_type": "execute_result",
          "data": {
            "text/plain": [
              "'8893'"
            ]
          },
          "metadata": {
            "tags": []
          },
          "execution_count": 3
        }
      ]
    },
    {
      "cell_type": "markdown",
      "metadata": {
        "id": "Ag9q7-2_tFLp",
        "colab_type": "text"
      },
      "source": [
        "##Python內建的type()函數可以顯示資料型態"
      ]
    },
    {
      "cell_type": "markdown",
      "metadata": {
        "id": "3BDTjmFmuD05",
        "colab_type": "text"
      },
      "source": [
        "#基本輸入:讀取使用者輸入的整數\n",
        "\n",
        "使用eval()函數"
      ]
    },
    {
      "cell_type": "code",
      "metadata": {
        "id": "7IZK_ZwSuM9J",
        "colab_type": "code",
        "colab": {
          "base_uri": "https://localhost:8080/",
          "height": 51
        },
        "outputId": "6401b380-883f-4ae6-a4f5-e33c11905dfa"
      },
      "source": [
        "a = eval(input(\"請輸入：\"))\n",
        "a"
      ],
      "execution_count": 1,
      "outputs": [
        {
          "output_type": "stream",
          "text": [
            "請輸入：8893\n"
          ],
          "name": "stdout"
        },
        {
          "output_type": "execute_result",
          "data": {
            "text/plain": [
              "8893"
            ]
          },
          "metadata": {
            "tags": []
          },
          "execution_count": 1
        }
      ]
    },
    {
      "cell_type": "code",
      "metadata": {
        "id": "QmGYM4qPuuKi",
        "colab_type": "code",
        "colab": {
          "base_uri": "https://localhost:8080/",
          "height": 34
        },
        "outputId": "319ac86f-4c8d-4819-e722-ad2dc569f540"
      },
      "source": [
        "xy = a + 8894\n",
        "xy"
      ],
      "execution_count": 2,
      "outputs": [
        {
          "output_type": "execute_result",
          "data": {
            "text/plain": [
              "17787"
            ]
          },
          "metadata": {
            "tags": []
          },
          "execution_count": 2
        }
      ]
    },
    {
      "cell_type": "markdown",
      "metadata": {
        "id": "AITo2KIDu3OS",
        "colab_type": "text"
      },
      "source": [
        "##超級重要:可以一次輸入多（兩）個資料"
      ]
    },
    {
      "cell_type": "code",
      "metadata": {
        "id": "h-FtJa1ou6MC",
        "colab_type": "code",
        "colab": {
          "base_uri": "https://localhost:8080/",
          "height": 51
        },
        "outputId": "dff7a146-46f0-45f4-fbe3-1b28e4ac8a73"
      },
      "source": [
        "f,g = eval(input(\"請輸入兩個數位!謝謝：\"))\n",
        "f,g"
      ],
      "execution_count": 4,
      "outputs": [
        {
          "output_type": "stream",
          "text": [
            "請輸入兩個數位!謝謝：8893,8894\n"
          ],
          "name": "stdout"
        },
        {
          "output_type": "execute_result",
          "data": {
            "text/plain": [
              "(8893, 8894)"
            ]
          },
          "metadata": {
            "tags": []
          },
          "execution_count": 4
        }
      ]
    },
    {
      "cell_type": "markdown",
      "metadata": {
        "id": "54KB7U2lvOUL",
        "colab_type": "text"
      },
      "source": [
        "##高階技巧:"
      ]
    },
    {
      "cell_type": "code",
      "metadata": {
        "id": "jqFeiabKvQC6",
        "colab_type": "code",
        "colab": {
          "base_uri": "https://localhost:8080/",
          "height": 136
        },
        "outputId": "e7ecb46c-da96-4a94-ccb1-bcbf397c18a4"
      },
      "source": [
        "x, y, z, q, f = [int(x) for x in input(\"Enter three value: \").split()] \n",
        "print(\"First Number is: \", x) \n",
        "print(\"Second Number is: \", y) \n",
        "print(\"Third Number is: \", z)\n",
        "print(\"Fourth Number is: \", q)\n",
        "print(\"Fifth Number is: \", f) \n",
        "print() "
      ],
      "execution_count": 8,
      "outputs": [
        {
          "output_type": "stream",
          "text": [
            "Enter three value: 10 20 30 40 50\n",
            "First Number is:  10\n",
            "Second Number is:  20\n",
            "Third Number is:  30\n",
            "Fourth Number is:  40\n",
            "Fifth Number is:  50\n",
            "\n"
          ],
          "name": "stdout"
        }
      ]
    },
    {
      "cell_type": "code",
      "metadata": {
        "id": "iK9-OVN4vwIC",
        "colab_type": "code",
        "colab": {
          "base_uri": "https://localhost:8080/",
          "height": 136
        },
        "outputId": "96b0623c-dbec-4014-ed41-6d457b23eb95"
      },
      "source": [
        "x, y, z, q, f = [int(x) for x in input(\"Enter three value: \").split(\",\")] \n",
        "print(\"First Number is: \", x) \n",
        "print(\"Second Number is: \", y) \n",
        "print(\"Third Number is: \", z)\n",
        "print(\"Fourth Number is: \", q)\n",
        "print(\"Fifth Number is: \", f) \n",
        "print() "
      ],
      "execution_count": 11,
      "outputs": [
        {
          "output_type": "stream",
          "text": [
            "Enter three value: 3,10,23,89,77\n",
            "First Number is:  3\n",
            "Second Number is:  10\n",
            "Third Number is:  23\n",
            "Fourth Number is:  89\n",
            "Fifth Number is:  77\n",
            "\n"
          ],
          "name": "stdout"
        }
      ]
    },
    {
      "cell_type": "code",
      "metadata": {
        "id": "-XedHnFrwDn6",
        "colab_type": "code",
        "colab": {
          "base_uri": "https://localhost:8080/",
          "height": 68
        },
        "outputId": "4941b7f2-fcf1-4c5b-f5c7-8db34bce9419"
      },
      "source": [
        "a, b = input(\"Enter a two value: \").split() \n",
        "print(\"First number is {} and second number is {}\".format(a, b)) \n",
        "print() "
      ],
      "execution_count": 12,
      "outputs": [
        {
          "output_type": "stream",
          "text": [
            "Enter a two value: 88 99\n",
            "First number is 88 and second number is 99\n",
            "\n"
          ],
          "name": "stdout"
        }
      ]
    }
  ]
}