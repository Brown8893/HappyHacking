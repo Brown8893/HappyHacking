{
  "nbformat": 4,
  "nbformat_minor": 0,
  "metadata": {
    "colab": {
      "name": "Requests模組測試報告_01.ipynb",
      "version": "0.3.2",
      "provenance": [],
      "include_colab_link": true
    },
    "kernelspec": {
      "name": "python3",
      "display_name": "Python 3"
    }
  },
  "cells": [
    {
      "cell_type": "markdown",
      "metadata": {
        "id": "view-in-github",
        "colab_type": "text"
      },
      "source": [
        "<a href=\"https://colab.research.google.com/github/Brown8893/HappyHacking/blob/master/Requests%E6%A8%A1%E7%B5%84%E6%B8%AC%E8%A9%A6%E5%A0%B1%E5%91%8A_01.ipynb\" target=\"_parent\"><img src=\"https://colab.research.google.com/assets/colab-badge.svg\" alt=\"Open In Colab\"/></a>"
      ]
    },
    {
      "metadata": {
        "id": "00XMY4FjLO3F",
        "colab_type": "code",
        "colab": {}
      },
      "cell_type": "code",
      "source": [
        "import requests"
      ],
      "execution_count": 0,
      "outputs": []
    },
    {
      "metadata": {
        "id": "0FoOhpMtLrRc",
        "colab_type": "code",
        "colab": {}
      },
      "cell_type": "code",
      "source": [
        "!pip list"
      ],
      "execution_count": 0,
      "outputs": []
    },
    {
      "metadata": {
        "id": "zDiV5VxgL94z",
        "colab_type": "code",
        "colab": {}
      },
      "cell_type": "code",
      "source": [
        "r = requests.get('http://www.flag.com.tw')"
      ],
      "execution_count": 0,
      "outputs": []
    },
    {
      "metadata": {
        "id": "zgrcgA_QMIm8",
        "colab_type": "code",
        "colab": {
          "base_uri": "https://localhost:8080/",
          "height": 34
        },
        "outputId": "c5ab17fb-503b-4116-dd2d-316e208d9f73"
      },
      "cell_type": "code",
      "source": [
        "r"
      ],
      "execution_count": 4,
      "outputs": [
        {
          "output_type": "execute_result",
          "data": {
            "text/plain": [
              "<Response [200]>"
            ]
          },
          "metadata": {
            "tags": []
          },
          "execution_count": 4
        }
      ]
    },
    {
      "metadata": {
        "id": "GMTD6OiPMKIj",
        "colab_type": "code",
        "colab": {
          "base_uri": "https://localhost:8080/",
          "height": 54
        },
        "outputId": "6fec7207-296a-414b-9f40-a8ded915a18f"
      },
      "cell_type": "code",
      "source": [
        "r.text"
      ],
      "execution_count": 5,
      "outputs": [
        {
          "output_type": "execute_result",
          "data": {
            "text/plain": [
              "'<!doctype html>\\n<html>\\n\\t<head>\\n\\t<meta charset=\"utf-8\">\\n\\t<meta name=\"viewport\" content=\"width=device-width,initial-scale=1.0,minimum-scale=1.0\">\\n\\t<title>旗標科技</title>\\n\\t<link rel=\"stylesheet\" href=\"https://www.flag.com.tw/assets/css/home/normalize.css\">\\n\\t<link rel=\"stylesheet\" href=\"https://www.flag.com.tw/assets/css/home/style.css\">\\n\\t<link rel=\"stylesheet\" href=\"https://www.flag.com.tw/assets/css/home/animate.css\">\\n\\t<link rel=\"stylesheet\" href=\"https://www.flag.com.tw/assets/css/home/font-awesome.css\">\\n\\t<link rel=\"stylesheet\" href=\"https://www.flag.com.tw/assets/css/home/bigvideo.css\">\\n\\t<script type=\"text/javascript\" src=\"https://www.flag.com.tw/assets/js/jquery-3.2.1.min.js\"></script>\\n    <script src=\"https://www.flag.com.tw/assets/js/jquery-ui.min.js\"></script>\\n\\t<script src=\"//vjs.zencdn.net/4.3/video.js\"></script>\\n\\t<script src=\"https://www.flag.com.tw/assets/js/bigvideo.js\"></script>\\n\\n<link rel=\"icon\" href=\"https://www.flag.com.tw/assets/img/flag.png\" sizes=\"32x32\" />\\n<!-- Global site tag (gtag.js) - Google Analytics -->\\n<script async src=\"https://www.googletagmanager.com/gtag/js?id=UA-122475394-1\"></script>\\n<script>\\n  window.dataLayer = window.dataLayer || [];\\n  function gtag(){dataLayer.push(arguments);}\\n  gtag(\\'js\\', new Date());\\n\\n  gtag(\\'config\\', \\'UA-122475394-1\\');\\n</script>\\n<meta property=\"og:image\" content=\"https://www.flag.com.tw/assets/img/flag-32.png\">\\n\\t</head>\\n\\t<body class=\"homepage\">\\n\\n    <!-- Demo -->\\n\\n\\n<section class=\"homeheader\">\\n      <div class=\"home\">\\n\\t  \\t  <div class=\"home-title\"><img src=\"https://www.flag.com.tw/assets/img/home/home-title.png\"></div>\\n    <div class=\"home-logo\"><img class=\"home-loc\" src=\"https://www.flag.com.tw/assets/img/home/flag-logo-black.png\"></div>\\n   <form action=\"https://www.flag.com.tw/books/book_searching\" method=\"post\" class=\"search\" role=\"search\">\\n      <div class=\"form__field\">\\n        <input type=\"text\" name=\"book_search\" placeholder=\"關鍵字搜尋\" class=\"form__input\" value=\"\"  autofocus>\\n        \\n      </div>\\n\\n    </form>\\n  </div>\\n\\t\\n<div class=\"mainbtn\">\\n    <div class=\"sub-main\">\\n      <button class=\"button-three bluebtn\"  onclick=\"location.href=\\'https://www.flag.com.tw/books\\'\"><p>Books</p><h4>圖書</h4></button>\\n    </div>\\n    <div class=\"sub-main\">\\n      <button class=\"button-three orangebtn\" onclick=\"location.href=\\'https://www.flag.com.tw/maker\\'\"><p>Maker</p><h4>創客</h4></button>\\n    </div>\\n    <div class=\"sub-main\">\\n      <button class=\"button-three pinkbtn\" onclick=\"location.href=\\'https://www.flag.com.tw/books/school\\'\"><p>Textbooks</p><h4>教科書</h4></button>\\n    </div>\\n\\t <div class=\"sub-main\">\\n      <button class=\"button-three purplebtn\" onclick=\"location.href=\\'https://www.flag.com.tw/teachaid/AIrobot\\'\"><p>Teach Aid</p><h4>教具</h4></button>\\n    </div>\\n  </div>\\n    </section>\\n\\n\\t\\t<footer role=\"contentinfo\">\\n    <table class=\"clmtable\">\\n      <tr>\\n        <td><a href=\"https://www.flag.com.tw/flag/contact\">聯絡我們</a></td>\\n\\t\\t<td><a href=\"https://www.flag.com.tw/people/aboutflag.asp\">關於旗標</a></td>\\n        <td><a href=\"https://www.flag.com.tw/epaper/privacy.asp\">隱私權規約</a></td>\\n      </tr>\\n    </table>\\n <div class=\"footer-bottom\">\\n    <p class=\"footer-left\"> <strong>旗標科技股份有限公司</strong></p><p>台北市中正區\\n      杭州南路一段15-1號19樓 </p>\\n    <p class=\"footer-right\">© Flag Technology CO.,LTD.\\n      All rights reserved.</p>\\n  </div>\\n</footer>\\n</body>\\n \\n</html>\\n'"
            ]
          },
          "metadata": {
            "tags": []
          },
          "execution_count": 5
        }
      ]
    },
    {
      "metadata": {
        "id": "eZIU3DBCNkVT",
        "colab_type": "code",
        "colab": {}
      },
      "cell_type": "code",
      "source": [
        "r = requests.post('http://httpbin.org/post', data = {'key':'value'})"
      ],
      "execution_count": 0,
      "outputs": []
    },
    {
      "metadata": {
        "id": "3HxbgG9INwDU",
        "colab_type": "code",
        "colab": {
          "base_uri": "https://localhost:8080/",
          "height": 34
        },
        "outputId": "a772b958-bc09-405a-d8b8-59f2c8894b71"
      },
      "cell_type": "code",
      "source": [
        "r"
      ],
      "execution_count": 12,
      "outputs": [
        {
          "output_type": "execute_result",
          "data": {
            "text/plain": [
              "<Response [200]>"
            ]
          },
          "metadata": {
            "tags": []
          },
          "execution_count": 12
        }
      ]
    },
    {
      "metadata": {
        "id": "bO6FDMLwNxz8",
        "colab_type": "code",
        "colab": {
          "base_uri": "https://localhost:8080/",
          "height": 54
        },
        "outputId": "166ab3ee-21f4-40b7-ffdd-71f6baece4d1"
      },
      "cell_type": "code",
      "source": [
        "r.text"
      ],
      "execution_count": 13,
      "outputs": [
        {
          "output_type": "execute_result",
          "data": {
            "text/plain": [
              "'{\\n  \"args\": {}, \\n  \"data\": \"\", \\n  \"files\": {}, \\n  \"form\": {\\n    \"key\": \"value\"\\n  }, \\n  \"headers\": {\\n    \"Accept\": \"*/*\", \\n    \"Accept-Encoding\": \"gzip, deflate\", \\n    \"Content-Length\": \"9\", \\n    \"Content-Type\": \"application/x-www-form-urlencoded\", \\n    \"Host\": \"httpbin.org\", \\n    \"User-Agent\": \"python-requests/2.21.0\"\\n  }, \\n  \"json\": null, \\n  \"origin\": \"34.73.204.221, 34.73.204.221\", \\n  \"url\": \"https://httpbin.org/post\"\\n}\\n'"
            ]
          },
          "metadata": {
            "tags": []
          },
          "execution_count": 13
        }
      ]
    },
    {
      "metadata": {
        "id": "R-_j7xZFQZvT",
        "colab_type": "code",
        "colab": {}
      },
      "cell_type": "code",
      "source": [
        "r = requests.get('https://api.github.com/events')"
      ],
      "execution_count": 0,
      "outputs": []
    },
    {
      "metadata": {
        "id": "5I1vw_WiQdNL",
        "colab_type": "code",
        "colab": {}
      },
      "cell_type": "code",
      "source": [
        "r.json()"
      ],
      "execution_count": 0,
      "outputs": []
    },
    {
      "metadata": {
        "id": "a3vb-mEde0mX",
        "colab_type": "code",
        "colab": {}
      },
      "cell_type": "code",
      "source": [
        ""
      ],
      "execution_count": 0,
      "outputs": []
    }
  ]
}