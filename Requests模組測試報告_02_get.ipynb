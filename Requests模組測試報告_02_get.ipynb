{
  "nbformat": 4,
  "nbformat_minor": 0,
  "metadata": {
    "colab": {
      "name": "Requests模組測試報告_02_get.ipynb",
      "version": "0.3.2",
      "provenance": [],
      "include_colab_link": true
    },
    "kernelspec": {
      "name": "python3",
      "display_name": "Python 3"
    }
  },
  "cells": [
    {
      "cell_type": "markdown",
      "metadata": {
        "id": "view-in-github",
        "colab_type": "text"
      },
      "source": [
        "<a href=\"https://colab.research.google.com/github/Brown8893/HappyHacking/blob/master/Requests%E6%A8%A1%E7%B5%84%E6%B8%AC%E8%A9%A6%E5%A0%B1%E5%91%8A_02_get.ipynb\" target=\"_parent\"><img src=\"https://colab.research.google.com/assets/colab-badge.svg\" alt=\"Open In Colab\"/></a>"
      ]
    },
    {
      "metadata": {
        "id": "f8aottj7fAsA",
        "colab_type": "code",
        "colab": {}
      },
      "cell_type": "code",
      "source": [
        "import requests"
      ],
      "execution_count": 0,
      "outputs": []
    },
    {
      "metadata": {
        "id": "ahzGPwZTlYGG",
        "colab_type": "code",
        "colab": {}
      },
      "cell_type": "code",
      "source": [
        "payload = {'key1': 'value1', 'key2': 'value2'}\n",
        "html = requests.get(\"http://httpbin.org/get\", params=payload)"
      ],
      "execution_count": 0,
      "outputs": []
    },
    {
      "metadata": {
        "id": "IqXnmKQZmHct",
        "colab_type": "code",
        "colab": {
          "base_uri": "https://localhost:8080/",
          "height": 34
        },
        "outputId": "97a0f7cc-c626-4f34-ad74-9cd6f0427d3b"
      },
      "cell_type": "code",
      "source": [
        "print(html.url) # http://httpbin.org/get?key1=value1&key2=value2"
      ],
      "execution_count": 4,
      "outputs": [
        {
          "output_type": "stream",
          "text": [
            "http://httpbin.org/get?key1=value1&key2=value2\n"
          ],
          "name": "stdout"
        }
      ]
    }
  ]
}