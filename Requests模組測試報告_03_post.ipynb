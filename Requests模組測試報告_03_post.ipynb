{
  "nbformat": 4,
  "nbformat_minor": 0,
  "metadata": {
    "colab": {
      "name": "Requests模組測試報告_03_post.ipynb",
      "version": "0.3.2",
      "provenance": [],
      "include_colab_link": true
    },
    "kernelspec": {
      "name": "python3",
      "display_name": "Python 3"
    }
  },
  "cells": [
    {
      "cell_type": "markdown",
      "metadata": {
        "id": "view-in-github",
        "colab_type": "text"
      },
      "source": [
        "<a href=\"https://colab.research.google.com/github/Brown8893/HappyHacking/blob/master/Requests%E6%A8%A1%E7%B5%84%E6%B8%AC%E8%A9%A6%E5%A0%B1%E5%91%8A_03_post.ipynb\" target=\"_parent\"><img src=\"https://colab.research.google.com/assets/colab-badge.svg\" alt=\"Open In Colab\"/></a>"
      ]
    },
    {
      "metadata": {
        "id": "v1rlkManpfUW",
        "colab_type": "code",
        "colab": {}
      },
      "cell_type": "code",
      "source": [
        "import requests"
      ],
      "execution_count": 0,
      "outputs": []
    },
    {
      "metadata": {
        "id": "KiwDk0aQpq79",
        "colab_type": "code",
        "colab": {}
      },
      "cell_type": "code",
      "source": [
        "payload = {'key1': 'value1', 'key2': 'value2'}"
      ],
      "execution_count": 0,
      "outputs": []
    },
    {
      "metadata": {
        "id": "tpIdr93Up1fG",
        "colab_type": "code",
        "colab": {}
      },
      "cell_type": "code",
      "source": [
        "html = requests.post(\"http://httpbin.org/post\", data=payload)"
      ],
      "execution_count": 0,
      "outputs": []
    },
    {
      "metadata": {
        "id": "T81drvD0qAtM",
        "colab_type": "code",
        "colab": {
          "base_uri": "https://localhost:8080/",
          "height": 370
        },
        "outputId": "33efdedb-af16-4724-c2c4-27497b52cded"
      },
      "cell_type": "code",
      "source": [
        "print(html.text)"
      ],
      "execution_count": 4,
      "outputs": [
        {
          "output_type": "stream",
          "text": [
            "{\n",
            "  \"args\": {}, \n",
            "  \"data\": \"\", \n",
            "  \"files\": {}, \n",
            "  \"form\": {\n",
            "    \"key1\": \"value1\", \n",
            "    \"key2\": \"value2\"\n",
            "  }, \n",
            "  \"headers\": {\n",
            "    \"Accept\": \"*/*\", \n",
            "    \"Accept-Encoding\": \"gzip, deflate\", \n",
            "    \"Content-Length\": \"23\", \n",
            "    \"Content-Type\": \"application/x-www-form-urlencoded\", \n",
            "    \"Host\": \"httpbin.org\", \n",
            "    \"User-Agent\": \"python-requests/2.21.0\"\n",
            "  }, \n",
            "  \"json\": null, \n",
            "  \"origin\": \"34.73.204.221, 34.73.204.221\", \n",
            "  \"url\": \"https://httpbin.org/post\"\n",
            "}\n",
            "\n"
          ],
          "name": "stdout"
        }
      ]
    }
  ]
}